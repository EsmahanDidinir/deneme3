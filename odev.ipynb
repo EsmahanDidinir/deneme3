{
 "cells": [
  {
   "cell_type": "code",
   "execution_count": 1,
   "id": "e34e8928",
   "metadata": {},
   "outputs": [],
   "source": [
    "from config.config import YOUTUBE_API_KEY\n",
    "from googleapiclient.discovery import build\n",
    "from IPython.display import JSON"
   ]
  },
  {
   "cell_type": "code",
   "execution_count": 2,
   "id": "6f5a1464",
   "metadata": {},
   "outputs": [],
   "source": [
    "api_service_name = \"youtube\"\n",
    "api_version = \"v3\"\n",
    "\n",
    "youtube = build(\n",
    "    api_service_name, api_version, developerKey=YOUTUBE_API_KEY)"
   ]
  },
  {
   "cell_type": "code",
   "execution_count": 3,
   "id": "c6a70603",
   "metadata": {},
   "outputs": [],
   "source": [
    "channelIds = ['UCcR1TUaD8Zn6P6O8hOA-xYA',]"
   ]
  },
  {
   "cell_type": "code",
   "execution_count": 4,
   "id": "59860e5e",
   "metadata": {},
   "outputs": [
    {
     "name": "stdout",
     "output_type": "stream",
     "text": [
      "{'kind': 'youtube#channelListResponse', 'etag': '5n38M1hRFPELZd1hPtXWtVxJcLs', 'pageInfo': {'totalResults': 1, 'resultsPerPage': 5}, 'items': [{'kind': 'youtube#channel', 'etag': 'qs2hZms7Sa8mcq9RomPD7b128MQ', 'id': 'UCcR1TUaD8Zn6P6O8hOA-xYA', 'snippet': {'title': 'Shayda Campbell', 'description': \"Hi! I'm Shayda, the creator behind Shayda Campbell YouTube. This channel is all about getting creative no matter your skill level. I think we have so much to gain by investing in our lives in a creative and artistic way. So let's paint some watercolor flowers, make a birthday card for a friend and doodle in our journals like we're kids! Creativity is play, anyone can do it! \\n\\nInterested in a collaboration? Email my team at teamshayda@gmail.com\\n\\n*note: due to the high volume of emails, we will no longer be responding to questions regarding products/ supplies used in the YouTube videos. Head to my blog for exact product links.\\xa0Emails regarding video ideas are always appreciated and taken into consideration but will not receive a response. Shayda does not offer private lessons/consultation. We wish we could respond to all of our viewer emails, but we're busy making more tutorials to share with you on YouTube!\\n\", 'customUrl': '@shaydacampbell', 'publishedAt': '2011-10-18T19:48:32Z', 'thumbnails': {'default': {'url': 'https://yt3.ggpht.com/ytc/AIdro_kjK1Xjm_uscriNulqGKyBvC43_WMuqqaU1Gi0g1h48bxym=s88-c-k-c0x00ffffff-no-rj', 'width': 88, 'height': 88}, 'medium': {'url': 'https://yt3.ggpht.com/ytc/AIdro_kjK1Xjm_uscriNulqGKyBvC43_WMuqqaU1Gi0g1h48bxym=s240-c-k-c0x00ffffff-no-rj', 'width': 240, 'height': 240}, 'high': {'url': 'https://yt3.ggpht.com/ytc/AIdro_kjK1Xjm_uscriNulqGKyBvC43_WMuqqaU1Gi0g1h48bxym=s800-c-k-c0x00ffffff-no-rj', 'width': 800, 'height': 800}}, 'localized': {'title': 'Shayda Campbell', 'description': \"Hi! I'm Shayda, the creator behind Shayda Campbell YouTube. This channel is all about getting creative no matter your skill level. I think we have so much to gain by investing in our lives in a creative and artistic way. So let's paint some watercolor flowers, make a birthday card for a friend and doodle in our journals like we're kids! Creativity is play, anyone can do it! \\n\\nInterested in a collaboration? Email my team at teamshayda@gmail.com\\n\\n*note: due to the high volume of emails, we will no longer be responding to questions regarding products/ supplies used in the YouTube videos. Head to my blog for exact product links.\\xa0Emails regarding video ideas are always appreciated and taken into consideration but will not receive a response. Shayda does not offer private lessons/consultation. We wish we could respond to all of our viewer emails, but we're busy making more tutorials to share with you on YouTube!\\n\"}, 'country': 'CA'}, 'contentDetails': {'relatedPlaylists': {'likes': '', 'uploads': 'UUcR1TUaD8Zn6P6O8hOA-xYA'}}, 'statistics': {'viewCount': '66790357', 'subscriberCount': '1060000', 'hiddenSubscriberCount': False, 'videoCount': '963'}}]}\n"
     ]
    }
   ],
   "source": [
    "request = youtube.channels().list(\n",
    "    part=\"snippet,contentDetails,statistics\",\n",
    "    id=\",\".join(channelIds)\n",
    ")\n",
    "response = request.execute()\n",
    "\n",
    "print(response)"
   ]
  },
  {
   "cell_type": "code",
   "execution_count": 5,
   "id": "2c8cfe25",
   "metadata": {},
   "outputs": [
    {
     "data": {
      "application/json": {
       "etag": "5n38M1hRFPELZd1hPtXWtVxJcLs",
       "items": [
        {
         "contentDetails": {
          "relatedPlaylists": {
           "likes": "",
           "uploads": "UUcR1TUaD8Zn6P6O8hOA-xYA"
          }
         },
         "etag": "qs2hZms7Sa8mcq9RomPD7b128MQ",
         "id": "UCcR1TUaD8Zn6P6O8hOA-xYA",
         "kind": "youtube#channel",
         "snippet": {
          "country": "CA",
          "customUrl": "@shaydacampbell",
          "description": "Hi! I'm Shayda, the creator behind Shayda Campbell YouTube. This channel is all about getting creative no matter your skill level. I think we have so much to gain by investing in our lives in a creative and artistic way. So let's paint some watercolor flowers, make a birthday card for a friend and doodle in our journals like we're kids! Creativity is play, anyone can do it! \n\nInterested in a collaboration? Email my team at teamshayda@gmail.com\n\n*note: due to the high volume of emails, we will no longer be responding to questions regarding products/ supplies used in the YouTube videos. Head to my blog for exact product links. Emails regarding video ideas are always appreciated and taken into consideration but will not receive a response. Shayda does not offer private lessons/consultation. We wish we could respond to all of our viewer emails, but we're busy making more tutorials to share with you on YouTube!\n",
          "localized": {
           "description": "Hi! I'm Shayda, the creator behind Shayda Campbell YouTube. This channel is all about getting creative no matter your skill level. I think we have so much to gain by investing in our lives in a creative and artistic way. So let's paint some watercolor flowers, make a birthday card for a friend and doodle in our journals like we're kids! Creativity is play, anyone can do it! \n\nInterested in a collaboration? Email my team at teamshayda@gmail.com\n\n*note: due to the high volume of emails, we will no longer be responding to questions regarding products/ supplies used in the YouTube videos. Head to my blog for exact product links. Emails regarding video ideas are always appreciated and taken into consideration but will not receive a response. Shayda does not offer private lessons/consultation. We wish we could respond to all of our viewer emails, but we're busy making more tutorials to share with you on YouTube!\n",
           "title": "Shayda Campbell"
          },
          "publishedAt": "2011-10-18T19:48:32Z",
          "thumbnails": {
           "default": {
            "height": 88,
            "url": "https://yt3.ggpht.com/ytc/AIdro_kjK1Xjm_uscriNulqGKyBvC43_WMuqqaU1Gi0g1h48bxym=s88-c-k-c0x00ffffff-no-rj",
            "width": 88
           },
           "high": {
            "height": 800,
            "url": "https://yt3.ggpht.com/ytc/AIdro_kjK1Xjm_uscriNulqGKyBvC43_WMuqqaU1Gi0g1h48bxym=s800-c-k-c0x00ffffff-no-rj",
            "width": 800
           },
           "medium": {
            "height": 240,
            "url": "https://yt3.ggpht.com/ytc/AIdro_kjK1Xjm_uscriNulqGKyBvC43_WMuqqaU1Gi0g1h48bxym=s240-c-k-c0x00ffffff-no-rj",
            "width": 240
           }
          },
          "title": "Shayda Campbell"
         },
         "statistics": {
          "hiddenSubscriberCount": false,
          "subscriberCount": "1060000",
          "videoCount": "963",
          "viewCount": "66790357"
         }
        }
       ],
       "kind": "youtube#channelListResponse",
       "pageInfo": {
        "resultsPerPage": 5,
        "totalResults": 1
       }
      },
      "text/plain": [
       "<IPython.core.display.JSON object>"
      ]
     },
     "execution_count": 5,
     "metadata": {
      "application/json": {
       "expanded": false,
       "root": "root"
      }
     },
     "output_type": "execute_result"
    }
   ],
   "source": [
    "JSON(response)"
   ]
  }
 ],
 "metadata": {
  "kernelspec": {
   "display_name": "base",
   "language": "python",
   "name": "python3"
  },
  "language_info": {
   "codemirror_mode": {
    "name": "ipython",
    "version": 3
   },
   "file_extension": ".py",
   "mimetype": "text/x-python",
   "name": "python",
   "nbconvert_exporter": "python",
   "pygments_lexer": "ipython3",
   "version": "3.12.7"
  }
 },
 "nbformat": 4,
 "nbformat_minor": 5
}
